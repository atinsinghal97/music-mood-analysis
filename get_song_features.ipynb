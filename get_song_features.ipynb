{
 "metadata": {
  "language_info": {
   "codemirror_mode": {
    "name": "ipython",
    "version": 3
   },
   "file_extension": ".py",
   "mimetype": "text/x-python",
   "name": "python",
   "nbconvert_exporter": "python",
   "pygments_lexer": "ipython3",
   "version": "3.8.3"
  },
  "orig_nbformat": 2,
  "kernelspec": {
   "name": "python383jvsc74a57bd0b3ba2566441a7c06988d0923437866b63cedc61552a5af99d1f4fb67d367b25f",
   "display_name": "Python 3.8.3 64-bit ('base': conda)"
  }
 },
 "nbformat": 4,
 "nbformat_minor": 2,
 "cells": [
  {
   "cell_type": "code",
   "execution_count": 3,
   "metadata": {},
   "outputs": [],
   "source": [
    "import numpy as np\n",
    "import pandas as pd\n",
    "import seaborn as sns\n",
    "import matplotlib as plt\n",
    "import json\n",
    "%matplotlib inline\n"
   ]
  },
  {
   "cell_type": "code",
   "execution_count": 4,
   "metadata": {},
   "outputs": [],
   "source": [
    "with open(\"data1.json\",'rb') as datafile:\n",
    "  song = json.load(datafile)\n",
    "song = pd.DataFrame(song)"
   ]
  },
  {
   "cell_type": "code",
   "execution_count": 5,
   "metadata": {},
   "outputs": [
    {
     "output_type": "execute_result",
     "data": {
      "text/plain": [
       "               endTime             artistName            trackName  msPlayed\n",
       "0     2020-04-01 19:34              The Maine               Lovely     18808\n",
       "1     2020-04-01 21:35             Conan Gray               Maniac     50928\n",
       "2     2020-04-02 01:31             The Wrecks         Out Of Style    160080\n",
       "3     2020-04-02 01:50         THE DRIVER ERA         Preacher Man    219389\n",
       "4     2020-04-02 01:51  Fitz and The Tantrums   I Just Wanna Shine      4942\n",
       "...                ...                    ...                  ...       ...\n",
       "9995  2020-12-11 20:02            John-Robert              Pelican    157299\n",
       "9996  2020-12-11 20:05                 Sum 41              Fat Lip    178266\n",
       "9997  2020-12-11 20:08         Panama Wedding                  Uma    179025\n",
       "9998  2020-12-11 20:12         The Happy Fits       Dirty Imbecile    239612\n",
       "9999  2020-12-11 20:16                  Arlie  tossing and turning    254306\n",
       "\n",
       "[10000 rows x 4 columns]"
      ],
      "text/html": "<div>\n<style scoped>\n    .dataframe tbody tr th:only-of-type {\n        vertical-align: middle;\n    }\n\n    .dataframe tbody tr th {\n        vertical-align: top;\n    }\n\n    .dataframe thead th {\n        text-align: right;\n    }\n</style>\n<table border=\"1\" class=\"dataframe\">\n  <thead>\n    <tr style=\"text-align: right;\">\n      <th></th>\n      <th>endTime</th>\n      <th>artistName</th>\n      <th>trackName</th>\n      <th>msPlayed</th>\n    </tr>\n  </thead>\n  <tbody>\n    <tr>\n      <th>0</th>\n      <td>2020-04-01 19:34</td>\n      <td>The Maine</td>\n      <td>Lovely</td>\n      <td>18808</td>\n    </tr>\n    <tr>\n      <th>1</th>\n      <td>2020-04-01 21:35</td>\n      <td>Conan Gray</td>\n      <td>Maniac</td>\n      <td>50928</td>\n    </tr>\n    <tr>\n      <th>2</th>\n      <td>2020-04-02 01:31</td>\n      <td>The Wrecks</td>\n      <td>Out Of Style</td>\n      <td>160080</td>\n    </tr>\n    <tr>\n      <th>3</th>\n      <td>2020-04-02 01:50</td>\n      <td>THE DRIVER ERA</td>\n      <td>Preacher Man</td>\n      <td>219389</td>\n    </tr>\n    <tr>\n      <th>4</th>\n      <td>2020-04-02 01:51</td>\n      <td>Fitz and The Tantrums</td>\n      <td>I Just Wanna Shine</td>\n      <td>4942</td>\n    </tr>\n    <tr>\n      <th>...</th>\n      <td>...</td>\n      <td>...</td>\n      <td>...</td>\n      <td>...</td>\n    </tr>\n    <tr>\n      <th>9995</th>\n      <td>2020-12-11 20:02</td>\n      <td>John-Robert</td>\n      <td>Pelican</td>\n      <td>157299</td>\n    </tr>\n    <tr>\n      <th>9996</th>\n      <td>2020-12-11 20:05</td>\n      <td>Sum 41</td>\n      <td>Fat Lip</td>\n      <td>178266</td>\n    </tr>\n    <tr>\n      <th>9997</th>\n      <td>2020-12-11 20:08</td>\n      <td>Panama Wedding</td>\n      <td>Uma</td>\n      <td>179025</td>\n    </tr>\n    <tr>\n      <th>9998</th>\n      <td>2020-12-11 20:12</td>\n      <td>The Happy Fits</td>\n      <td>Dirty Imbecile</td>\n      <td>239612</td>\n    </tr>\n    <tr>\n      <th>9999</th>\n      <td>2020-12-11 20:16</td>\n      <td>Arlie</td>\n      <td>tossing and turning</td>\n      <td>254306</td>\n    </tr>\n  </tbody>\n</table>\n<p>10000 rows × 4 columns</p>\n</div>"
     },
     "metadata": {},
     "execution_count": 5
    }
   ],
   "source": [
    "song"
   ]
  },
  {
   "cell_type": "code",
   "execution_count": 8,
   "metadata": {},
   "outputs": [
    {
     "output_type": "stream",
     "name": "stdout",
     "text": [
      "Collecting spotipy\n  Using cached spotipy-2.17.1-py3-none-any.whl (26 kB)\nRequirement already satisfied: six>=1.15.0 in c:\\programdata\\anaconda3\\lib\\site-packages (from spotipy) (1.15.0)\nCollecting requests>=2.25.0\n  Using cached requests-2.25.1-py2.py3-none-any.whl (61 kB)\nCollecting urllib3>=1.26.0\n  Using cached urllib3-1.26.4-py2.py3-none-any.whl (153 kB)\nRequirement already satisfied: certifi>=2017.4.17 in c:\\programdata\\anaconda3\\lib\\site-packages (from requests>=2.25.0->spotipy) (2020.6.20)\nRequirement already satisfied: idna<3,>=2.5 in c:\\programdata\\anaconda3\\lib\\site-packages (from requests>=2.25.0->spotipy) (2.10)\nRequirement already satisfied: chardet<5,>=3.0.2 in c:\\programdata\\anaconda3\\lib\\site-packages (from requests>=2.25.0->spotipy) (3.0.4)\nInstalling collected packages: urllib3, requests, spotipy\nSuccessfully installed requests-2.25.1 spotipy-2.17.1 urllib3-1.26.4\nNote: you may need to restart the kernel to use updated packages.\n"
     ]
    }
   ],
   "source": [
    "pip install --user spotipy"
   ]
  },
  {
   "cell_type": "code",
   "execution_count": 16,
   "metadata": {},
   "outputs": [],
   "source": [
    "## access the spotify api \n",
    "import spotipy.util as util\n",
    "\n",
    "username = '22ncyzdcn5gqnknz3ska32qxq'\n",
    "client_id ='c8f0e81eb3e247d49dd3f503cc04930d'\n",
    "client_secret = '1d50b1f2515f4c249c9453d267b0564f'\n",
    "redirect_uri = 'http://localhost:7777/callback'\n",
    "scope = 'user-read-recently-played'\n",
    "\n",
    "token = util.prompt_for_user_token(username=username, \n",
    "                                   scope=scope, \n",
    "                                   client_id=client_id,   \n",
    "                                   client_secret=client_secret,     \n",
    "                                   redirect_uri=redirect_uri)"
   ]
  },
  {
   "cell_type": "code",
   "execution_count": 17,
   "metadata": {},
   "outputs": [
    {
     "output_type": "stream",
     "name": "stdout",
     "text": [
      "BQBfYpuG4hWCzRTIvdimQMjRf-YXFxkZ4LOLNY_A08KHDEEqq7kE6hbMGG6lRk5D_trY0UnnEEqKc4P7BlF84XHkQyky6bxpc_QsaX9WCktJk0U_HpW8Y3D_7iZ_5YNbyCqtX6B-0mgxfnkAFb8Hcj6O9CnaOUfgoxddNsY\n"
     ]
    }
   ],
   "source": [
    "print(token)"
   ]
  },
  {
   "cell_type": "code",
   "execution_count": 7,
   "metadata": {},
   "outputs": [],
   "source": [
    "import requests\n",
    "import spotipy.util as util\n",
    "from spotipy import Spotify"
   ]
  },
  {
   "cell_type": "code",
   "execution_count": 8,
   "metadata": {},
   "outputs": [],
   "source": [
    "def get_api_id(track_info: str, token: str, artist: str = None) -> str:\n",
    "    \n",
    "    '''Performs a query on Spotify API to get a track ID.\n",
    "    See https://curl.trillworks.com/'''\n",
    "\n",
    "    headers = {\n",
    "    'Accept': 'application/json',\n",
    "    'Content-Type': 'application/json',\n",
    "    'Authorization': f'Bearer ' + token,\n",
    "    }\n",
    "    track_name = track_info.split(\"___\")[0]\n",
    "    params = [\n",
    "    ('q', track_name),\n",
    "    ('type', 'track'),\n",
    "    ]\n",
    "    artist = track_info.split(\"___\")[-1]\n",
    "    if artist:\n",
    "        params.append(('artist', artist))\n",
    "        \n",
    "    try:\n",
    "        response = requests.get('https://api.spotify.com/v1/search', \n",
    "                    headers = headers, params = params, timeout = 5)\n",
    "        json = response.json()\n",
    "        results = json['tracks']['items']\n",
    "        first_result = json['tracks']['items'][0]\n",
    "        # Check if searched artist is in response as the first one isn't\n",
    "        # necessarily the right one\n",
    "        if artist:\n",
    "            for result in results:\n",
    "                if artist.strip() == result['artists'][0]['name'].strip():\n",
    "                    track_id = result['id']\n",
    "                    return track_id\n",
    "        # If specific artist is not found from results, use the first one\n",
    "        track_id = first_result['id']\n",
    "        return track_id\n",
    "    except:\n",
    "        return None"
   ]
  },
  {
   "cell_type": "code",
   "execution_count": 13,
   "metadata": {},
   "outputs": [
    {
     "output_type": "stream",
     "name": "stdout",
     "text": [
      "0u2P5u6lvoDfwTYjAADbn4\n"
     ]
    }
   ],
   "source": [
    "lucy_id = get_api_id('Lovely', token, artist = 'The Maine')\n",
    "print(lucy_id)"
   ]
  },
  {
   "cell_type": "code",
   "execution_count": 22,
   "metadata": {},
   "outputs": [],
   "source": [
    "id = []\n",
    "for i in range(song.shape[0]):\n",
    "    if i < 5:\n",
    "        id.append(get_api_id(song.iloc[i,2],token, artist=song.iloc[i,1]))\n",
    "    else:\n",
    "        break\n",
    "    "
   ]
  },
  {
   "cell_type": "code",
   "execution_count": 23,
   "metadata": {},
   "outputs": [
    {
     "output_type": "stream",
     "name": "stdout",
     "text": [
      "['0u2P5u6lvoDfwTYjAADbn4', '6KfoDhO4XUWSbnyKjNp9c4', '62ewcS8yoxhFU59yhVlL9r', '0oeW7qeQnBULDmDWsq4w5o', '4GZ3YCkuH0VvTluVLwUp4g']\n"
     ]
    }
   ],
   "source": []
  },
  {
   "cell_type": "code",
   "execution_count": 9,
   "metadata": {},
   "outputs": [],
   "source": [
    "def get_features(track_id: str, token: str) -> dict:\n",
    "    sp = Spotify(auth=token)\n",
    "    try:\n",
    "        features = sp.audio_features([track_id])\n",
    "        return features[0]\n",
    "    except:\n",
    "        return None"
   ]
  },
  {
   "cell_type": "code",
   "execution_count": 17,
   "metadata": {},
   "outputs": [
    {
     "output_type": "execute_result",
     "data": {
      "text/plain": [
       "{'danceability': 0.351,\n",
       " 'energy': 0.296,\n",
       " 'key': 4,\n",
       " 'loudness': -10.109,\n",
       " 'mode': 0,\n",
       " 'speechiness': 0.0333,\n",
       " 'acousticness': 0.934,\n",
       " 'instrumentalness': 0,\n",
       " 'liveness': 0.095,\n",
       " 'valence': 0.12,\n",
       " 'tempo': 115.284,\n",
       " 'type': 'audio_features',\n",
       " 'id': '0u2P5u6lvoDfwTYjAADbn4',\n",
       " 'uri': 'spotify:track:0u2P5u6lvoDfwTYjAADbn4',\n",
       " 'track_href': 'https://api.spotify.com/v1/tracks/0u2P5u6lvoDfwTYjAADbn4',\n",
       " 'analysis_url': 'https://api.spotify.com/v1/audio-analysis/0u2P5u6lvoDfwTYjAADbn4',\n",
       " 'duration_ms': 200186,\n",
       " 'time_signature': 4}"
      ]
     },
     "metadata": {},
     "execution_count": 17
    }
   ],
   "source": [
    "lucy_features = get_features(lucy_id, token)\n",
    "lucy_features"
   ]
  },
  {
   "cell_type": "code",
   "execution_count": 71,
   "metadata": {},
   "outputs": [],
   "source": [
    "column_names = list(lucy_features.keys())[:11]\n",
    "features = pd.DataFrame(columns = column_names)"
   ]
  },
  {
   "cell_type": "code",
   "execution_count": 72,
   "metadata": {},
   "outputs": [
    {
     "output_type": "execute_result",
     "data": {
      "text/plain": [
       "Empty DataFrame\n",
       "Columns: [danceability, energy, key, loudness, mode, speechiness, acousticness, instrumentalness, liveness, valence]\n",
       "Index: []"
      ],
      "text/html": "<div>\n<style scoped>\n    .dataframe tbody tr th:only-of-type {\n        vertical-align: middle;\n    }\n\n    .dataframe tbody tr th {\n        vertical-align: top;\n    }\n\n    .dataframe thead th {\n        text-align: right;\n    }\n</style>\n<table border=\"1\" class=\"dataframe\">\n  <thead>\n    <tr style=\"text-align: right;\">\n      <th></th>\n      <th>danceability</th>\n      <th>energy</th>\n      <th>key</th>\n      <th>loudness</th>\n      <th>mode</th>\n      <th>speechiness</th>\n      <th>acousticness</th>\n      <th>instrumentalness</th>\n      <th>liveness</th>\n      <th>valence</th>\n    </tr>\n  </thead>\n  <tbody>\n  </tbody>\n</table>\n</div>"
     },
     "metadata": {},
     "execution_count": 72
    }
   ],
   "source": [
    "features"
   ]
  },
  {
   "cell_type": "code",
   "execution_count": 67,
   "metadata": {},
   "outputs": [
    {
     "output_type": "execute_result",
     "data": {
      "text/plain": [
       "              0       1    2         3     4            5             6  \\\n",
       "0  danceability  energy  key  loudness  mode  speechiness  acousticness   \n",
       "1         0.647   0.537    6   -12.006     0         0.21          0.43   \n",
       "\n",
       "                  7         8        9     10              11  \\\n",
       "0  instrumentalness  liveness  valence  tempo            type   \n",
       "1          0.000258     0.119    0.846  84.46  audio_features   \n",
       "\n",
       "                       12                                    13  \\\n",
       "0                      id                                   uri   \n",
       "1  5RxpYHVbGJPOvSEATQyg9P  spotify:track:5RxpYHVbGJPOvSEATQyg9P   \n",
       "\n",
       "                                                  14  \\\n",
       "0                                         track_href   \n",
       "1  https://api.spotify.com/v1/tracks/5RxpYHVbGJPO...   \n",
       "\n",
       "                                                  15           16  \\\n",
       "0                                       analysis_url  duration_ms   \n",
       "1  https://api.spotify.com/v1/audio-analysis/5Rxp...       142500   \n",
       "\n",
       "               17  \n",
       "0  time_signature  \n",
       "1               4  "
      ],
      "text/html": "<div>\n<style scoped>\n    .dataframe tbody tr th:only-of-type {\n        vertical-align: middle;\n    }\n\n    .dataframe tbody tr th {\n        vertical-align: top;\n    }\n\n    .dataframe thead th {\n        text-align: right;\n    }\n</style>\n<table border=\"1\" class=\"dataframe\">\n  <thead>\n    <tr style=\"text-align: right;\">\n      <th></th>\n      <th>0</th>\n      <th>1</th>\n      <th>2</th>\n      <th>3</th>\n      <th>4</th>\n      <th>5</th>\n      <th>6</th>\n      <th>7</th>\n      <th>8</th>\n      <th>9</th>\n      <th>10</th>\n      <th>11</th>\n      <th>12</th>\n      <th>13</th>\n      <th>14</th>\n      <th>15</th>\n      <th>16</th>\n      <th>17</th>\n    </tr>\n  </thead>\n  <tbody>\n    <tr>\n      <th>0</th>\n      <td>danceability</td>\n      <td>energy</td>\n      <td>key</td>\n      <td>loudness</td>\n      <td>mode</td>\n      <td>speechiness</td>\n      <td>acousticness</td>\n      <td>instrumentalness</td>\n      <td>liveness</td>\n      <td>valence</td>\n      <td>tempo</td>\n      <td>type</td>\n      <td>id</td>\n      <td>uri</td>\n      <td>track_href</td>\n      <td>analysis_url</td>\n      <td>duration_ms</td>\n      <td>time_signature</td>\n    </tr>\n    <tr>\n      <th>1</th>\n      <td>0.647</td>\n      <td>0.537</td>\n      <td>6</td>\n      <td>-12.006</td>\n      <td>0</td>\n      <td>0.21</td>\n      <td>0.43</td>\n      <td>0.000258</td>\n      <td>0.119</td>\n      <td>0.846</td>\n      <td>84.46</td>\n      <td>audio_features</td>\n      <td>5RxpYHVbGJPOvSEATQyg9P</td>\n      <td>spotify:track:5RxpYHVbGJPOvSEATQyg9P</td>\n      <td>https://api.spotify.com/v1/tracks/5RxpYHVbGJPO...</td>\n      <td>https://api.spotify.com/v1/audio-analysis/5Rxp...</td>\n      <td>142500</td>\n      <td>4</td>\n    </tr>\n  </tbody>\n</table>\n</div>"
     },
     "metadata": {},
     "execution_count": 67
    }
   ],
   "source": [
    "def get_feature_history(df:dataframe):\n",
    "    for i in df:\n",
    "        id = get_api_id(i, token, artist = 'The Beatles')"
   ]
  },
  {
   "cell_type": "code",
   "execution_count": 10,
   "metadata": {},
   "outputs": [],
   "source": [
    "def id_df(df):\n",
    "    return get_api_id(df[2], token, df[1])"
   ]
  },
  {
   "cell_type": "code",
   "execution_count": 11,
   "metadata": {},
   "outputs": [],
   "source": [
    "song['id'] = song.apply(id_df, axis=1)"
   ]
  },
  {
   "cell_type": "code",
   "execution_count": 23,
   "metadata": {},
   "outputs": [
    {
     "output_type": "execute_result",
     "data": {
      "text/plain": [
       "            endTime             artistName           trackName  msPlayed  \\\n",
       "0  2020-04-01 19:34              The Maine              Lovely     18808   \n",
       "1  2020-04-01 21:35             Conan Gray              Maniac     50928   \n",
       "2  2020-04-02 01:31             The Wrecks        Out Of Style    160080   \n",
       "3  2020-04-02 01:50         THE DRIVER ERA        Preacher Man    219389   \n",
       "4  2020-04-02 01:51  Fitz and The Tantrums  I Just Wanna Shine      4942   \n",
       "\n",
       "                       id features  \n",
       "0  0u2P5u6lvoDfwTYjAADbn4     None  \n",
       "1  6KfoDhO4XUWSbnyKjNp9c4     None  \n",
       "2  62ewcS8yoxhFU59yhVlL9r     None  \n",
       "3  0oeW7qeQnBULDmDWsq4w5o     None  \n",
       "4  4GZ3YCkuH0VvTluVLwUp4g     None  "
      ],
      "text/html": "<div>\n<style scoped>\n    .dataframe tbody tr th:only-of-type {\n        vertical-align: middle;\n    }\n\n    .dataframe tbody tr th {\n        vertical-align: top;\n    }\n\n    .dataframe thead th {\n        text-align: right;\n    }\n</style>\n<table border=\"1\" class=\"dataframe\">\n  <thead>\n    <tr style=\"text-align: right;\">\n      <th></th>\n      <th>endTime</th>\n      <th>artistName</th>\n      <th>trackName</th>\n      <th>msPlayed</th>\n      <th>id</th>\n      <th>features</th>\n    </tr>\n  </thead>\n  <tbody>\n    <tr>\n      <th>0</th>\n      <td>2020-04-01 19:34</td>\n      <td>The Maine</td>\n      <td>Lovely</td>\n      <td>18808</td>\n      <td>0u2P5u6lvoDfwTYjAADbn4</td>\n      <td>None</td>\n    </tr>\n    <tr>\n      <th>1</th>\n      <td>2020-04-01 21:35</td>\n      <td>Conan Gray</td>\n      <td>Maniac</td>\n      <td>50928</td>\n      <td>6KfoDhO4XUWSbnyKjNp9c4</td>\n      <td>None</td>\n    </tr>\n    <tr>\n      <th>2</th>\n      <td>2020-04-02 01:31</td>\n      <td>The Wrecks</td>\n      <td>Out Of Style</td>\n      <td>160080</td>\n      <td>62ewcS8yoxhFU59yhVlL9r</td>\n      <td>None</td>\n    </tr>\n    <tr>\n      <th>3</th>\n      <td>2020-04-02 01:50</td>\n      <td>THE DRIVER ERA</td>\n      <td>Preacher Man</td>\n      <td>219389</td>\n      <td>0oeW7qeQnBULDmDWsq4w5o</td>\n      <td>None</td>\n    </tr>\n    <tr>\n      <th>4</th>\n      <td>2020-04-02 01:51</td>\n      <td>Fitz and The Tantrums</td>\n      <td>I Just Wanna Shine</td>\n      <td>4942</td>\n      <td>4GZ3YCkuH0VvTluVLwUp4g</td>\n      <td>None</td>\n    </tr>\n  </tbody>\n</table>\n</div>"
     },
     "metadata": {},
     "execution_count": 23
    }
   ],
   "source": [
    "song.head()"
   ]
  },
  {
   "cell_type": "code",
   "execution_count": 12,
   "metadata": {},
   "outputs": [],
   "source": [
    "song.to_csv('song_id.csv',sep='\\t')"
   ]
  },
  {
   "cell_type": "code",
   "execution_count": 13,
   "metadata": {},
   "outputs": [],
   "source": [
    "song['features'] = get_features(song['id'],token)\n",
    "song.to_csv('song_feature.csv',sep='\\t')"
   ]
  },
  {
   "cell_type": "code",
   "execution_count": 29,
   "metadata": {},
   "outputs": [],
   "source": [
    "features = []\n",
    "for i in range(song.shape[0]):\n",
    "        features.append(get_features(song.iloc[i,4],token))\n"
   ]
  },
  {
   "cell_type": "code",
   "execution_count": 41,
   "metadata": {},
   "outputs": [],
   "source": [
    "song = song.drop(['features'],axis=1)"
   ]
  },
  {
   "cell_type": "code",
   "execution_count": 40,
   "metadata": {},
   "outputs": [
    {
     "output_type": "stream",
     "name": "stdout",
     "text": [
      "10000\n(10000, 6)\n"
     ]
    }
   ],
   "source": [
    "print(len(features))\n",
    "print(song.shape)"
   ]
  },
  {
   "cell_type": "code",
   "execution_count": 42,
   "metadata": {},
   "outputs": [
    {
     "output_type": "execute_result",
     "data": {
      "text/plain": [
       "24"
      ]
     },
     "metadata": {},
     "execution_count": 42
    }
   ],
   "source": [
    "sum(song['id'].isnull())"
   ]
  },
  {
   "cell_type": "code",
   "execution_count": 43,
   "metadata": {},
   "outputs": [
    {
     "output_type": "execute_result",
     "data": {
      "text/plain": [
       "               endTime                            artistName  \\\n",
       "2060  2020-05-09 07:25  music that isn’t already on here 2.0   \n",
       "2062  2020-05-09 07:30  music that isn’t already on here 2.0   \n",
       "2063  2020-05-09 07:34  music that isn’t already on here 2.0   \n",
       "2152  2020-05-10 04:18  music that isn’t already on here 2.0   \n",
       "2153  2020-05-10 04:18  music that isn’t already on here 2.0   \n",
       "2155  2020-05-10 04:18  music that isn’t already on here 2.0   \n",
       "2156  2020-05-10 04:35  music that isn’t already on here 2.0   \n",
       "2157  2020-05-10 04:41  music that isn’t already on here 2.0   \n",
       "2204  2020-05-12 17:04  music that isn’t already on here 2.0   \n",
       "2205  2020-05-12 17:07  music that isn’t already on here 2.0   \n",
       "2206  2020-05-12 17:07  music that isn’t already on here 2.0   \n",
       "2207  2020-05-12 17:08  music that isn’t already on here 2.0   \n",
       "4997  2020-08-02 23:18                            Conan Gray   \n",
       "5678  2020-08-24 03:44                      Parade of Lights   \n",
       "7163  2020-09-29 17:26                   Elephant Whisperers   \n",
       "7164  2020-09-29 17:56                   Elephant Whisperers   \n",
       "7165  2020-09-29 17:59                   Elephant Whisperers   \n",
       "7166  2020-09-29 18:03                   Elephant Whisperers   \n",
       "7167  2020-09-29 19:48                   Elephant Whisperers   \n",
       "7214  2020-09-30 01:02                   Elephant Whisperers   \n",
       "7479  2020-10-05 00:10                   Elephant Whisperers   \n",
       "7480  2020-10-05 00:37                   Elephant Whisperers   \n",
       "7849  2020-10-12 18:11                 365 days with mxmtoon   \n",
       "8464  2020-10-25 17:47                   Elephant Whisperers   \n",
       "\n",
       "                                              trackName  msPlayed    id  \n",
       "2060            Kaleidoscope Eyes - Panic! at the Disco    201621  None  \n",
       "2062          Turn Off The Lights - Panic! at the Disco    239076  None  \n",
       "2063                  Bittersweet - Panic! at the Disco    215052  None  \n",
       "2152          Turn Off The Lights - Panic! at the Disco        72  None  \n",
       "2153          Turn Off The Lights - Panic! at the Disco      3040  None  \n",
       "2155            Kaleidoscope Eyes - Panic! at the Disco     22448  None  \n",
       "2156            Kaleidoscope Eyes - Panic! at the Disco    192810  None  \n",
       "2157          Turn Off The Lights - Panic! at the Disco     40160  None  \n",
       "2204      Modern Day Cain (slow jam version) - IDKHBTFM    157111  None  \n",
       "2205                             Mr Sinister - IDKHBTFM    100671  None  \n",
       "2206                     Oh Glory - Panic! at the Disco     10026  None  \n",
       "2207                     Stall Me - Panic! at the Disco     69397  None  \n",
       "4997                                          Affluenza    146028  None  \n",
       "5678                                             Golden    184566  None  \n",
       "7163                              Adorable & Illiterate    103573  None  \n",
       "7164                    A Couple Frogs in a Trench Coat   1241391  None  \n",
       "7165                              Adorable & Illiterate         0  None  \n",
       "7166                    A Couple Frogs in a Trench Coat    124992  None  \n",
       "7167                    A Couple Frogs in a Trench Coat       426  None  \n",
       "7214                              Adorable & Illiterate    760059  None  \n",
       "7479                                                 🐘🥞    479117  None  \n",
       "7480                                                 🐘🥞       533  None  \n",
       "7849  october 12: the original sausage party (with D...    293295  None  \n",
       "8464                          Humiliation, or Something    272139  None  "
      ],
      "text/html": "<div>\n<style scoped>\n    .dataframe tbody tr th:only-of-type {\n        vertical-align: middle;\n    }\n\n    .dataframe tbody tr th {\n        vertical-align: top;\n    }\n\n    .dataframe thead th {\n        text-align: right;\n    }\n</style>\n<table border=\"1\" class=\"dataframe\">\n  <thead>\n    <tr style=\"text-align: right;\">\n      <th></th>\n      <th>endTime</th>\n      <th>artistName</th>\n      <th>trackName</th>\n      <th>msPlayed</th>\n      <th>id</th>\n    </tr>\n  </thead>\n  <tbody>\n    <tr>\n      <th>2060</th>\n      <td>2020-05-09 07:25</td>\n      <td>music that isn’t already on here 2.0</td>\n      <td>Kaleidoscope Eyes - Panic! at the Disco</td>\n      <td>201621</td>\n      <td>None</td>\n    </tr>\n    <tr>\n      <th>2062</th>\n      <td>2020-05-09 07:30</td>\n      <td>music that isn’t already on here 2.0</td>\n      <td>Turn Off The Lights - Panic! at the Disco</td>\n      <td>239076</td>\n      <td>None</td>\n    </tr>\n    <tr>\n      <th>2063</th>\n      <td>2020-05-09 07:34</td>\n      <td>music that isn’t already on here 2.0</td>\n      <td>Bittersweet - Panic! at the Disco</td>\n      <td>215052</td>\n      <td>None</td>\n    </tr>\n    <tr>\n      <th>2152</th>\n      <td>2020-05-10 04:18</td>\n      <td>music that isn’t already on here 2.0</td>\n      <td>Turn Off The Lights - Panic! at the Disco</td>\n      <td>72</td>\n      <td>None</td>\n    </tr>\n    <tr>\n      <th>2153</th>\n      <td>2020-05-10 04:18</td>\n      <td>music that isn’t already on here 2.0</td>\n      <td>Turn Off The Lights - Panic! at the Disco</td>\n      <td>3040</td>\n      <td>None</td>\n    </tr>\n    <tr>\n      <th>2155</th>\n      <td>2020-05-10 04:18</td>\n      <td>music that isn’t already on here 2.0</td>\n      <td>Kaleidoscope Eyes - Panic! at the Disco</td>\n      <td>22448</td>\n      <td>None</td>\n    </tr>\n    <tr>\n      <th>2156</th>\n      <td>2020-05-10 04:35</td>\n      <td>music that isn’t already on here 2.0</td>\n      <td>Kaleidoscope Eyes - Panic! at the Disco</td>\n      <td>192810</td>\n      <td>None</td>\n    </tr>\n    <tr>\n      <th>2157</th>\n      <td>2020-05-10 04:41</td>\n      <td>music that isn’t already on here 2.0</td>\n      <td>Turn Off The Lights - Panic! at the Disco</td>\n      <td>40160</td>\n      <td>None</td>\n    </tr>\n    <tr>\n      <th>2204</th>\n      <td>2020-05-12 17:04</td>\n      <td>music that isn’t already on here 2.0</td>\n      <td>Modern Day Cain (slow jam version) - IDKHBTFM</td>\n      <td>157111</td>\n      <td>None</td>\n    </tr>\n    <tr>\n      <th>2205</th>\n      <td>2020-05-12 17:07</td>\n      <td>music that isn’t already on here 2.0</td>\n      <td>Mr Sinister - IDKHBTFM</td>\n      <td>100671</td>\n      <td>None</td>\n    </tr>\n    <tr>\n      <th>2206</th>\n      <td>2020-05-12 17:07</td>\n      <td>music that isn’t already on here 2.0</td>\n      <td>Oh Glory - Panic! at the Disco</td>\n      <td>10026</td>\n      <td>None</td>\n    </tr>\n    <tr>\n      <th>2207</th>\n      <td>2020-05-12 17:08</td>\n      <td>music that isn’t already on here 2.0</td>\n      <td>Stall Me - Panic! at the Disco</td>\n      <td>69397</td>\n      <td>None</td>\n    </tr>\n    <tr>\n      <th>4997</th>\n      <td>2020-08-02 23:18</td>\n      <td>Conan Gray</td>\n      <td>Affluenza</td>\n      <td>146028</td>\n      <td>None</td>\n    </tr>\n    <tr>\n      <th>5678</th>\n      <td>2020-08-24 03:44</td>\n      <td>Parade of Lights</td>\n      <td>Golden</td>\n      <td>184566</td>\n      <td>None</td>\n    </tr>\n    <tr>\n      <th>7163</th>\n      <td>2020-09-29 17:26</td>\n      <td>Elephant Whisperers</td>\n      <td>Adorable &amp; Illiterate</td>\n      <td>103573</td>\n      <td>None</td>\n    </tr>\n    <tr>\n      <th>7164</th>\n      <td>2020-09-29 17:56</td>\n      <td>Elephant Whisperers</td>\n      <td>A Couple Frogs in a Trench Coat</td>\n      <td>1241391</td>\n      <td>None</td>\n    </tr>\n    <tr>\n      <th>7165</th>\n      <td>2020-09-29 17:59</td>\n      <td>Elephant Whisperers</td>\n      <td>Adorable &amp; Illiterate</td>\n      <td>0</td>\n      <td>None</td>\n    </tr>\n    <tr>\n      <th>7166</th>\n      <td>2020-09-29 18:03</td>\n      <td>Elephant Whisperers</td>\n      <td>A Couple Frogs in a Trench Coat</td>\n      <td>124992</td>\n      <td>None</td>\n    </tr>\n    <tr>\n      <th>7167</th>\n      <td>2020-09-29 19:48</td>\n      <td>Elephant Whisperers</td>\n      <td>A Couple Frogs in a Trench Coat</td>\n      <td>426</td>\n      <td>None</td>\n    </tr>\n    <tr>\n      <th>7214</th>\n      <td>2020-09-30 01:02</td>\n      <td>Elephant Whisperers</td>\n      <td>Adorable &amp; Illiterate</td>\n      <td>760059</td>\n      <td>None</td>\n    </tr>\n    <tr>\n      <th>7479</th>\n      <td>2020-10-05 00:10</td>\n      <td>Elephant Whisperers</td>\n      <td>🐘🥞</td>\n      <td>479117</td>\n      <td>None</td>\n    </tr>\n    <tr>\n      <th>7480</th>\n      <td>2020-10-05 00:37</td>\n      <td>Elephant Whisperers</td>\n      <td>🐘🥞</td>\n      <td>533</td>\n      <td>None</td>\n    </tr>\n    <tr>\n      <th>7849</th>\n      <td>2020-10-12 18:11</td>\n      <td>365 days with mxmtoon</td>\n      <td>october 12: the original sausage party (with D...</td>\n      <td>293295</td>\n      <td>None</td>\n    </tr>\n    <tr>\n      <th>8464</th>\n      <td>2020-10-25 17:47</td>\n      <td>Elephant Whisperers</td>\n      <td>Humiliation, or Something</td>\n      <td>272139</td>\n      <td>None</td>\n    </tr>\n  </tbody>\n</table>\n</div>"
     },
     "metadata": {},
     "execution_count": 43
    }
   ],
   "source": [
    "song[pd.isnull(song).any(axis=1)]"
   ]
  },
  {
   "cell_type": "code",
   "execution_count": 47,
   "metadata": {},
   "outputs": [],
   "source": [
    "null_list = song[pd.isnull(song).any(axis=1)].index.tolist()"
   ]
  },
  {
   "cell_type": "code",
   "execution_count": 50,
   "metadata": {},
   "outputs": [
    {
     "output_type": "stream",
     "name": "stdout",
     "text": [
      "[2060, 2062, 2063, 2152, 2153, 2155, 2156, 2157, 2204, 2205, 2206, 2207, 4997, 5678, 7163, 7164, 7165, 7166, 7167, 7214, 7479, 7480, 7849, 8464]\nNone\n"
     ]
    }
   ],
   "source": [
    "print(null_list)\n",
    "print(features[2060])"
   ]
  },
  {
   "cell_type": "code",
   "execution_count": 51,
   "metadata": {},
   "outputs": [],
   "source": [
    "features_nonull = features\n",
    "features_nonull = filter(None,features_nonull)"
   ]
  },
  {
   "cell_type": "code",
   "execution_count": 52,
   "metadata": {},
   "outputs": [],
   "source": [
    "df = pd.DataFrame(features_nonull)"
   ]
  },
  {
   "cell_type": "code",
   "execution_count": 53,
   "metadata": {},
   "outputs": [
    {
     "output_type": "execute_result",
     "data": {
      "text/plain": [
       "   danceability  energy  key  loudness  mode  speechiness  acousticness  \\\n",
       "0         0.351   0.296    4   -10.109     0       0.0333       0.93400   \n",
       "1         0.628   0.639    8    -5.460     1       0.0435       0.00162   \n",
       "2         0.595   0.848    9    -5.481     0       0.0602       0.00399   \n",
       "3         0.689   0.947    1    -3.926     1       0.0897       0.00209   \n",
       "4         0.705   0.918    6    -2.770     0       0.0684       0.04000   \n",
       "\n",
       "   instrumentalness  liveness  valence    tempo            type  \\\n",
       "0          0.000000    0.0950    0.120  115.284  audio_features   \n",
       "1          0.000000    0.3540    0.493  108.045  audio_features   \n",
       "2          0.000000    0.3380    0.801  140.031  audio_features   \n",
       "3          0.000000    0.2280    0.393  119.993  audio_features   \n",
       "4          0.000093    0.0803    0.546   92.511  audio_features   \n",
       "\n",
       "                       id                                   uri  \\\n",
       "0  0u2P5u6lvoDfwTYjAADbn4  spotify:track:0u2P5u6lvoDfwTYjAADbn4   \n",
       "1  6KfoDhO4XUWSbnyKjNp9c4  spotify:track:6KfoDhO4XUWSbnyKjNp9c4   \n",
       "2  62ewcS8yoxhFU59yhVlL9r  spotify:track:62ewcS8yoxhFU59yhVlL9r   \n",
       "3  0oeW7qeQnBULDmDWsq4w5o  spotify:track:0oeW7qeQnBULDmDWsq4w5o   \n",
       "4  4GZ3YCkuH0VvTluVLwUp4g  spotify:track:4GZ3YCkuH0VvTluVLwUp4g   \n",
       "\n",
       "                                          track_href  \\\n",
       "0  https://api.spotify.com/v1/tracks/0u2P5u6lvoDf...   \n",
       "1  https://api.spotify.com/v1/tracks/6KfoDhO4XUWS...   \n",
       "2  https://api.spotify.com/v1/tracks/62ewcS8yoxhF...   \n",
       "3  https://api.spotify.com/v1/tracks/0oeW7qeQnBUL...   \n",
       "4  https://api.spotify.com/v1/tracks/4GZ3YCkuH0Vv...   \n",
       "\n",
       "                                        analysis_url  duration_ms  \\\n",
       "0  https://api.spotify.com/v1/audio-analysis/0u2P...       200186   \n",
       "1  https://api.spotify.com/v1/audio-analysis/6Kfo...       185773   \n",
       "2  https://api.spotify.com/v1/audio-analysis/62ew...       160080   \n",
       "3  https://api.spotify.com/v1/audio-analysis/0oeW...       219390   \n",
       "4  https://api.spotify.com/v1/audio-analysis/4GZ3...       207925   \n",
       "\n",
       "   time_signature  \n",
       "0               4  \n",
       "1               4  \n",
       "2               4  \n",
       "3               4  \n",
       "4               4  "
      ],
      "text/html": "<div>\n<style scoped>\n    .dataframe tbody tr th:only-of-type {\n        vertical-align: middle;\n    }\n\n    .dataframe tbody tr th {\n        vertical-align: top;\n    }\n\n    .dataframe thead th {\n        text-align: right;\n    }\n</style>\n<table border=\"1\" class=\"dataframe\">\n  <thead>\n    <tr style=\"text-align: right;\">\n      <th></th>\n      <th>danceability</th>\n      <th>energy</th>\n      <th>key</th>\n      <th>loudness</th>\n      <th>mode</th>\n      <th>speechiness</th>\n      <th>acousticness</th>\n      <th>instrumentalness</th>\n      <th>liveness</th>\n      <th>valence</th>\n      <th>tempo</th>\n      <th>type</th>\n      <th>id</th>\n      <th>uri</th>\n      <th>track_href</th>\n      <th>analysis_url</th>\n      <th>duration_ms</th>\n      <th>time_signature</th>\n    </tr>\n  </thead>\n  <tbody>\n    <tr>\n      <th>0</th>\n      <td>0.351</td>\n      <td>0.296</td>\n      <td>4</td>\n      <td>-10.109</td>\n      <td>0</td>\n      <td>0.0333</td>\n      <td>0.93400</td>\n      <td>0.000000</td>\n      <td>0.0950</td>\n      <td>0.120</td>\n      <td>115.284</td>\n      <td>audio_features</td>\n      <td>0u2P5u6lvoDfwTYjAADbn4</td>\n      <td>spotify:track:0u2P5u6lvoDfwTYjAADbn4</td>\n      <td>https://api.spotify.com/v1/tracks/0u2P5u6lvoDf...</td>\n      <td>https://api.spotify.com/v1/audio-analysis/0u2P...</td>\n      <td>200186</td>\n      <td>4</td>\n    </tr>\n    <tr>\n      <th>1</th>\n      <td>0.628</td>\n      <td>0.639</td>\n      <td>8</td>\n      <td>-5.460</td>\n      <td>1</td>\n      <td>0.0435</td>\n      <td>0.00162</td>\n      <td>0.000000</td>\n      <td>0.3540</td>\n      <td>0.493</td>\n      <td>108.045</td>\n      <td>audio_features</td>\n      <td>6KfoDhO4XUWSbnyKjNp9c4</td>\n      <td>spotify:track:6KfoDhO4XUWSbnyKjNp9c4</td>\n      <td>https://api.spotify.com/v1/tracks/6KfoDhO4XUWS...</td>\n      <td>https://api.spotify.com/v1/audio-analysis/6Kfo...</td>\n      <td>185773</td>\n      <td>4</td>\n    </tr>\n    <tr>\n      <th>2</th>\n      <td>0.595</td>\n      <td>0.848</td>\n      <td>9</td>\n      <td>-5.481</td>\n      <td>0</td>\n      <td>0.0602</td>\n      <td>0.00399</td>\n      <td>0.000000</td>\n      <td>0.3380</td>\n      <td>0.801</td>\n      <td>140.031</td>\n      <td>audio_features</td>\n      <td>62ewcS8yoxhFU59yhVlL9r</td>\n      <td>spotify:track:62ewcS8yoxhFU59yhVlL9r</td>\n      <td>https://api.spotify.com/v1/tracks/62ewcS8yoxhF...</td>\n      <td>https://api.spotify.com/v1/audio-analysis/62ew...</td>\n      <td>160080</td>\n      <td>4</td>\n    </tr>\n    <tr>\n      <th>3</th>\n      <td>0.689</td>\n      <td>0.947</td>\n      <td>1</td>\n      <td>-3.926</td>\n      <td>1</td>\n      <td>0.0897</td>\n      <td>0.00209</td>\n      <td>0.000000</td>\n      <td>0.2280</td>\n      <td>0.393</td>\n      <td>119.993</td>\n      <td>audio_features</td>\n      <td>0oeW7qeQnBULDmDWsq4w5o</td>\n      <td>spotify:track:0oeW7qeQnBULDmDWsq4w5o</td>\n      <td>https://api.spotify.com/v1/tracks/0oeW7qeQnBUL...</td>\n      <td>https://api.spotify.com/v1/audio-analysis/0oeW...</td>\n      <td>219390</td>\n      <td>4</td>\n    </tr>\n    <tr>\n      <th>4</th>\n      <td>0.705</td>\n      <td>0.918</td>\n      <td>6</td>\n      <td>-2.770</td>\n      <td>0</td>\n      <td>0.0684</td>\n      <td>0.04000</td>\n      <td>0.000093</td>\n      <td>0.0803</td>\n      <td>0.546</td>\n      <td>92.511</td>\n      <td>audio_features</td>\n      <td>4GZ3YCkuH0VvTluVLwUp4g</td>\n      <td>spotify:track:4GZ3YCkuH0VvTluVLwUp4g</td>\n      <td>https://api.spotify.com/v1/tracks/4GZ3YCkuH0Vv...</td>\n      <td>https://api.spotify.com/v1/audio-analysis/4GZ3...</td>\n      <td>207925</td>\n      <td>4</td>\n    </tr>\n  </tbody>\n</table>\n</div>"
     },
     "metadata": {},
     "execution_count": 53
    }
   ],
   "source": [
    "df.head()"
   ]
  },
  {
   "cell_type": "code",
   "execution_count": 83,
   "metadata": {},
   "outputs": [
    {
     "output_type": "execute_result",
     "data": {
      "text/plain": [
       "497"
      ]
     },
     "metadata": {},
     "execution_count": 83
    }
   ],
   "source": [
    "sum(pd.isnull(dataframe['id']))"
   ]
  },
  {
   "cell_type": "code",
   "execution_count": 54,
   "metadata": {},
   "outputs": [],
   "source": [
    "final_1 = pd.merge(song, df, how = 'left', on=['id'])\n",
    "final_1 = final_1.drop_duplicates()\n",
    "final_1 = final_1.dropna()"
   ]
  },
  {
   "cell_type": "code",
   "execution_count": 56,
   "metadata": {},
   "outputs": [],
   "source": [
    "final_1.to_csv(r'final_1.txt',sep='\\t',index=None)"
   ]
  },
  {
   "cell_type": "code",
   "execution_count": null,
   "metadata": {},
   "outputs": [],
   "source": []
  }
 ]
}